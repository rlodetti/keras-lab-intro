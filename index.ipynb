{
 "cells": [
  {
   "cell_type": "markdown",
   "metadata": {},
   "source": [
    "# Keras - Lab\n",
    "\n",
    "## Introduction\n",
    "\n",
    "In this lab you'll once again build a neural network, but this time you will be using Keras to do a lot of the heavy lifting.\n",
    "\n",
    "\n",
    "## Objectives\n",
    "\n",
    "You will be able to:\n",
    "\n",
    "- Build a neural network using Keras \n",
    "- Evaluate performance of a neural network using Keras "
   ]
  },
  {
   "cell_type": "markdown",
   "metadata": {},
   "source": [
    "## Required Packages\n",
    "\n",
    "We'll start by importing all of the required packages and classes."
   ]
  },
  {
   "cell_type": "code",
   "execution_count": 24,
   "metadata": {},
   "outputs": [],
   "source": [
    "import matplotlib.pyplot as plt\n",
    "import pandas as pd\n",
    "import numpy as np\n",
    "import random\n",
    "from sklearn.model_selection import train_test_split\n",
    "from tensorflow.keras.utils import to_categorical  \n",
    "from sklearn import preprocessing\n",
    "from tensorflow.keras.preprocessing.text import Tokenizer \n",
    "from tensorflow.keras import models  \n",
    "from tensorflow.keras import layers \n",
    "from tensorflow.keras import optimizers\n"
   ]
  },
  {
   "cell_type": "markdown",
   "metadata": {},
   "source": [
    "## Load the data\n",
    "\n",
    "In this lab you will be classifying bank complaints available in the `'Bank_complaints.csv'` file. "
   ]
  },
  {
   "cell_type": "code",
   "execution_count": 2,
   "metadata": {},
   "outputs": [
    {
     "name": "stdout",
     "output_type": "stream",
     "text": [
      "<class 'pandas.core.frame.DataFrame'>\n",
      "RangeIndex: 60000 entries, 0 to 59999\n",
      "Data columns (total 2 columns):\n",
      " #   Column                        Non-Null Count  Dtype \n",
      "---  ------                        --------------  ----- \n",
      " 0   Product                       60000 non-null  object\n",
      " 1   Consumer complaint narrative  60000 non-null  object\n",
      "dtypes: object(2)\n",
      "memory usage: 937.6+ KB\n",
      "None\n"
     ]
    },
    {
     "data": {
      "text/html": [
       "<div>\n",
       "<style scoped>\n",
       "    .dataframe tbody tr th:only-of-type {\n",
       "        vertical-align: middle;\n",
       "    }\n",
       "\n",
       "    .dataframe tbody tr th {\n",
       "        vertical-align: top;\n",
       "    }\n",
       "\n",
       "    .dataframe thead th {\n",
       "        text-align: right;\n",
       "    }\n",
       "</style>\n",
       "<table border=\"1\" class=\"dataframe\">\n",
       "  <thead>\n",
       "    <tr style=\"text-align: right;\">\n",
       "      <th></th>\n",
       "      <th>Product</th>\n",
       "      <th>Consumer complaint narrative</th>\n",
       "    </tr>\n",
       "  </thead>\n",
       "  <tbody>\n",
       "    <tr>\n",
       "      <th>0</th>\n",
       "      <td>Student loan</td>\n",
       "      <td>In XX/XX/XXXX I filled out the Fedlaon applica...</td>\n",
       "    </tr>\n",
       "    <tr>\n",
       "      <th>1</th>\n",
       "      <td>Student loan</td>\n",
       "      <td>I am being contacted by a debt collector for p...</td>\n",
       "    </tr>\n",
       "    <tr>\n",
       "      <th>2</th>\n",
       "      <td>Student loan</td>\n",
       "      <td>I cosigned XXXX student loans at SallieMae for...</td>\n",
       "    </tr>\n",
       "    <tr>\n",
       "      <th>3</th>\n",
       "      <td>Student loan</td>\n",
       "      <td>Navient has sytematically and illegally failed...</td>\n",
       "    </tr>\n",
       "    <tr>\n",
       "      <th>4</th>\n",
       "      <td>Student loan</td>\n",
       "      <td>My wife became eligible for XXXX Loan Forgiven...</td>\n",
       "    </tr>\n",
       "  </tbody>\n",
       "</table>\n",
       "</div>"
      ],
      "text/plain": [
       "        Product                       Consumer complaint narrative\n",
       "0  Student loan  In XX/XX/XXXX I filled out the Fedlaon applica...\n",
       "1  Student loan  I am being contacted by a debt collector for p...\n",
       "2  Student loan  I cosigned XXXX student loans at SallieMae for...\n",
       "3  Student loan  Navient has sytematically and illegally failed...\n",
       "4  Student loan  My wife became eligible for XXXX Loan Forgiven..."
      ]
     },
     "execution_count": 2,
     "metadata": {},
     "output_type": "execute_result"
    }
   ],
   "source": [
    "# Import data\n",
    "df = pd.read_csv('Bank_complaints.csv')\n",
    "\n",
    "# Inspect data\n",
    "print(df.info())\n",
    "df.head()"
   ]
  },
  {
   "cell_type": "markdown",
   "metadata": {},
   "source": [
    "As mentioned earlier, your task is to categorize banking complaints into various predefined categories. Preview what these categories are and what percent of the complaints each accounts for. "
   ]
  },
  {
   "cell_type": "code",
   "execution_count": 3,
   "metadata": {},
   "outputs": [
    {
     "data": {
      "text/plain": [
       "Product\n",
       "Student loan                   0.190067\n",
       "Credit card                    0.159000\n",
       "Consumer Loan                  0.157900\n",
       "Mortgage                       0.138867\n",
       "Bank account or service        0.138483\n",
       "Credit reporting               0.114400\n",
       "Checking or savings account    0.101283\n",
       "Name: proportion, dtype: float64"
      ]
     },
     "execution_count": 3,
     "metadata": {},
     "output_type": "execute_result"
    }
   ],
   "source": [
    "# Your code here\n",
    "df['Product'].value_counts(normalize=True)"
   ]
  },
  {
   "cell_type": "markdown",
   "metadata": {},
   "source": [
    "## Preprocessing\n",
    "\n",
    "Before we build our neural network, we need to do several preprocessing steps. First, we will create word vector counts (a bag of words type representation) of our complaints text. Next, we will change the category labels to integers. Finally, we will perform our usual train-test split before building and training our neural network using Keras. With that, let's start munging our data! \n",
    "\n",
    "## One-hot encoding of the complaints\n",
    "\n",
    "Our first step again is to transform our textual data into a numerical representation. As we saw in some of our previous lessons on NLP, there are many ways to do this. Here, we'll use the `Tokenizer()` class from the `preprocessing.text` sub-module of the Keras package.   \n",
    "\n",
    "As with our previous work using NLTK, this will transform our text complaints into word vectors. (Note that the method of creating a vector is different from our previous work with NLTK; as you'll see, word order will be preserved as opposed to a bag of words representation). In the below code, we'll only keep the 2,000 most common words and use one-hot encoding. \n",
    "\n"
   ]
  },
  {
   "cell_type": "code",
   "execution_count": 8,
   "metadata": {},
   "outputs": [
    {
     "data": {
      "text/plain": [
       "\u001b[0;31mInit signature:\u001b[0m\n",
       "\u001b[0mTokenizer\u001b[0m\u001b[0;34m(\u001b[0m\u001b[0;34m\u001b[0m\n",
       "\u001b[0;34m\u001b[0m    \u001b[0mnum_words\u001b[0m\u001b[0;34m=\u001b[0m\u001b[0;32mNone\u001b[0m\u001b[0;34m,\u001b[0m\u001b[0;34m\u001b[0m\n",
       "\u001b[0;34m\u001b[0m    \u001b[0mfilters\u001b[0m\u001b[0;34m=\u001b[0m\u001b[0;34m'!\"#$%&()*+,-./:;<=>?@[\\\\]^_`{|}~\\t\\n'\u001b[0m\u001b[0;34m,\u001b[0m\u001b[0;34m\u001b[0m\n",
       "\u001b[0;34m\u001b[0m    \u001b[0mlower\u001b[0m\u001b[0;34m=\u001b[0m\u001b[0;32mTrue\u001b[0m\u001b[0;34m,\u001b[0m\u001b[0;34m\u001b[0m\n",
       "\u001b[0;34m\u001b[0m    \u001b[0msplit\u001b[0m\u001b[0;34m=\u001b[0m\u001b[0;34m' '\u001b[0m\u001b[0;34m,\u001b[0m\u001b[0;34m\u001b[0m\n",
       "\u001b[0;34m\u001b[0m    \u001b[0mchar_level\u001b[0m\u001b[0;34m=\u001b[0m\u001b[0;32mFalse\u001b[0m\u001b[0;34m,\u001b[0m\u001b[0;34m\u001b[0m\n",
       "\u001b[0;34m\u001b[0m    \u001b[0moov_token\u001b[0m\u001b[0;34m=\u001b[0m\u001b[0;32mNone\u001b[0m\u001b[0;34m,\u001b[0m\u001b[0;34m\u001b[0m\n",
       "\u001b[0;34m\u001b[0m    \u001b[0manalyzer\u001b[0m\u001b[0;34m=\u001b[0m\u001b[0;32mNone\u001b[0m\u001b[0;34m,\u001b[0m\u001b[0;34m\u001b[0m\n",
       "\u001b[0;34m\u001b[0m    \u001b[0;34m**\u001b[0m\u001b[0mkwargs\u001b[0m\u001b[0;34m,\u001b[0m\u001b[0;34m\u001b[0m\n",
       "\u001b[0;34m\u001b[0m\u001b[0;34m)\u001b[0m\u001b[0;34m\u001b[0m\u001b[0;34m\u001b[0m\u001b[0m\n",
       "\u001b[0;31mDocstring:\u001b[0m     \n",
       "Text tokenization utility class.\n",
       "\n",
       "Deprecated: `tf.keras.preprocessing.text.Tokenizer` does not operate on\n",
       "tensors and is not recommended for new code. Prefer\n",
       "`tf.keras.layers.TextVectorization` which provides equivalent functionality\n",
       "through a layer which accepts `tf.Tensor` input. See the\n",
       "[text loading tutorial](https://www.tensorflow.org/tutorials/load_data/text)\n",
       "for an overview of the layer and text handling in tensorflow.\n",
       "\n",
       "This class allows to vectorize a text corpus, by turning each\n",
       "text into either a sequence of integers (each integer being the index\n",
       "of a token in a dictionary) or into a vector where the coefficient\n",
       "for each token could be binary, based on word count, based on tf-idf...\n",
       "\n",
       "By default, all punctuation is removed, turning the texts into\n",
       "space-separated sequences of words\n",
       "(words may include the `'` character). These sequences are then\n",
       "split into lists of tokens. They will then be indexed or vectorized.\n",
       "\n",
       "`0` is a reserved index that won't be assigned to any word.\n",
       "\n",
       "Args:\n",
       "    num_words: the maximum number of words to keep, based\n",
       "        on word frequency. Only the most common `num_words-1` words will\n",
       "        be kept.\n",
       "    filters: a string where each element is a character that will be\n",
       "        filtered from the texts. The default is all punctuation, plus\n",
       "        tabs and line breaks, minus the `'` character.\n",
       "    lower: boolean. Whether to convert the texts to lowercase.\n",
       "    split: str. Separator for word splitting.\n",
       "    char_level: if True, every character will be treated as a token.\n",
       "    oov_token: if given, it will be added to word_index and used to\n",
       "        replace out-of-vocabulary words during text_to_sequence calls\n",
       "    analyzer: function. Custom analyzer to split the text.\n",
       "        The default analyzer is text_to_word_sequence\n",
       "\u001b[0;31mFile:\u001b[0m           ~/anaconda3/envs/tf-env/lib/python3.10/site-packages/keras/src/preprocessing/text.py\n",
       "\u001b[0;31mType:\u001b[0m           type\n",
       "\u001b[0;31mSubclasses:\u001b[0m     "
      ]
     },
     "metadata": {},
     "output_type": "display_data"
    }
   ],
   "source": [
    "# As a quick preliminary, briefly review the docstring for keras.preprocessing.text.Tokenizer\n",
    "from keras.preprocessing.text import Tokenizer\n",
    "Tokenizer?"
   ]
  },
  {
   "cell_type": "code",
   "execution_count": 9,
   "metadata": {},
   "outputs": [
    {
     "name": "stdout",
     "output_type": "stream",
     "text": [
      "sequences type: <class 'list'>\n",
      "one_hot_results type: <class 'numpy.ndarray'>\n",
      "Found 50110 unique tokens.\n",
      "Dimensions of our coded results: (60000, 2000)\n"
     ]
    }
   ],
   "source": [
    "# ⏰ This cell may take about thirty seconds to run\n",
    "\n",
    "# Raw text complaints\n",
    "complaints = df['Consumer complaint narrative'] \n",
    "\n",
    "# Initialize a tokenizer \n",
    "tokenizer = Tokenizer(num_words=2000) \n",
    "\n",
    "# Fit it to the complaints\n",
    "tokenizer.fit_on_texts(complaints) \n",
    "\n",
    "# Generate sequences\n",
    "sequences = tokenizer.texts_to_sequences(complaints) \n",
    "print('sequences type:', type(sequences))\n",
    "\n",
    "# Similar to sequences, but returns a numpy array\n",
    "one_hot_results= tokenizer.texts_to_matrix(complaints, mode='binary') \n",
    "print('one_hot_results type:', type(one_hot_results))\n",
    "\n",
    "# Useful if we wish to decode (more explanation below)\n",
    "word_index = tokenizer.word_index \n",
    "\n",
    "# Tokens are the number of unique words across the corpus\n",
    "print('Found %s unique tokens.' % len(word_index)) \n",
    "\n",
    "# Our coded data\n",
    "print('Dimensions of our coded results:', np.shape(one_hot_results)) "
   ]
  },
  {
   "cell_type": "markdown",
   "metadata": {},
   "source": [
    "## Decoding Word Vectors \n",
    "\n",
    "As a note, you can also decode these vectorized representations of the reviews. The `word_index` variable, defined above, stores the mapping from the label number to the actual word. Somewhat tediously, we can turn this dictionary inside out and map it back to our word vectors, giving us roughly the original complaint back. (As you'll see, the text won't be identical as we limited ourselves to top 2000 words.)\n",
    "\n",
    "## Python Review / Mini Challenge\n",
    "\n",
    "While a bit tangential to our main topic of interest, we need to reverse our current dictionary `word_index` which maps words from our corpus to integers. In decoding our `one_hot_results`, we will need to create a dictionary of these integers to the original words. Below, take the `word_index` dictionary object and change the orientation so that the values are keys and the keys values. In other words, you are transforming something of the form {A:1, B:2, C:3} to {1:A, 2:B, 3:C}. "
   ]
  },
  {
   "cell_type": "code",
   "execution_count": 15,
   "metadata": {},
   "outputs": [],
   "source": [
    "# Your code here\n",
    "reverse_index = {value: key for key, value in word_index.items()}"
   ]
  },
  {
   "cell_type": "markdown",
   "metadata": {},
   "source": [
    "## Back to Decoding Our Word Vectors..."
   ]
  },
  {
   "cell_type": "code",
   "execution_count": 16,
   "metadata": {},
   "outputs": [
    {
     "name": "stdout",
     "output_type": "stream",
     "text": [
      "Original complaint text:\n",
      "I have already filed several complaints about AES/PHEAA. I was notified by a XXXX XXXX let @ XXXX, who pretended to be from your office, he said he was from CFPB. I found out this morning he is n't from your office, but is actually works at XXXX. \n",
      "\n",
      "This has wasted weeks of my time. They AES/PHEAA confirmed and admitted ( see attached transcript of XXXX, conversation at XXXX ( XXXX ) with XXXX that proves they verified the loans are not mine ) the student loans they had XXXX, and collected on, and reported negate credit reporting in my name are in fact, not mine. \n",
      "They conclued their investigation on XXXX admitting they made a mistake and have my name on soneone elses loans. I these XXXX loans total {$10000.00}, original amount. My XXXX loans I got was total {$3500.00}. We proved by providing AES/PHEAA, this with my original promissary notes I located recently, the XXXX of my college provided AES/PHEAA with their original shoeinf amounts of my XXXX loans which show different dates and amounts, the dates and amounts are not even close to matching these loans they have in my name, The original lender, XXXX XXXX Bank notifying AES/PHEAA, they never issued me a student loan, and original Loan Guarantor, XXXX, notifying AES/PHEAA, they never were guarantor of my loans. \n",
      "\n",
      "XXXX straight forward. But today, this person, XXXX XXXX, told me they know these loans are not mine, and they refuse to remove my name off these XXXX loan 's and correct their mistake, essentially forcing me to pay these loans off, bucause in XXXX they sold the loans to XXXX loans. \n",
      "\n",
      "This is absurd, first protruding to be this office, and then refusing to correct their mistake. \n",
      "\n",
      "Please for the love of XXXX will soneone from your office call me at XXXX, today. I am a XXXX vet and they are knowingly discriminating against me. \n",
      "Pretending to be you.\n",
      "\n",
      "\n",
      "\n",
      "Decoded review from Tokenizer:\n",
      "i have already filed several complaints about aes i was notified by a xxxx xxxx let xxxx who to be from your office he said he was from cfpb i found out this morning he is n't from your office but is actually works at xxxx this has weeks of my time they aes confirmed and admitted see attached of xxxx conversation at xxxx xxxx with xxxx that they verified the loans are not mine the student loans they had xxxx and on and reported credit reporting in my name are in fact not mine they their investigation on xxxx they made a mistake and have my name on loans i these xxxx loans total 10000 00 original amount my xxxx loans i got was total 00 we by providing aes this with my original notes i located recently the xxxx of my college provided aes with their original amounts of my xxxx loans which show different dates and amounts the dates and amounts are not even close to these loans they have in my name the original lender xxxx xxxx bank notifying aes they never issued me a student loan and original loan xxxx notifying aes they never were of my loans xxxx forward but today this person xxxx xxxx told me they know these loans are not mine and they refuse to remove my name off these xxxx loan 's and correct their mistake essentially me to pay these loans off in xxxx they sold the loans to xxxx loans this is first to be this office and then refusing to correct their mistake please for the of xxxx will from your office call me at xxxx today i am a xxxx and they are against me to be you\n"
     ]
    }
   ],
   "source": [
    "comment_idx_to_preview = 19\n",
    "print('Original complaint text:')\n",
    "print(complaints[comment_idx_to_preview])\n",
    "print('\\n\\n')\n",
    "\n",
    "# The reverse_index cell block above must be complete in order for this cell block to successively execute \n",
    "decoded_review = ' '.join([reverse_index.get(i) for i in sequences[comment_idx_to_preview]])\n",
    "print('Decoded review from Tokenizer:')\n",
    "print(decoded_review)"
   ]
  },
  {
   "cell_type": "markdown",
   "metadata": {},
   "source": [
    "## Convert the Products to Numerical Categories\n",
    "\n",
    "On to step two of our preprocessing: converting our descriptive categories into integers."
   ]
  },
  {
   "cell_type": "code",
   "execution_count": 25,
   "metadata": {},
   "outputs": [
    {
     "name": "stdout",
     "output_type": "stream",
     "text": [
      "Original class labels:\n",
      "['Bank account or service', 'Checking or savings account', 'Consumer Loan', 'Credit card', 'Credit reporting', 'Mortgage', 'Student loan']\n",
      "\n",
      "\n",
      "New product labels:\n",
      "[6 6 6 ... 4 4 4]\n",
      "\n",
      "\n",
      "One hot labels; 7 binary columns, one for each of the categories.\n",
      "[[0. 0. 0. ... 0. 0. 1.]\n",
      " [0. 0. 0. ... 0. 0. 1.]\n",
      " [0. 0. 0. ... 0. 0. 1.]\n",
      " ...\n",
      " [0. 0. 0. ... 1. 0. 0.]\n",
      " [0. 0. 0. ... 1. 0. 0.]\n",
      " [0. 0. 0. ... 1. 0. 0.]]\n",
      "\n",
      "\n",
      "One hot labels shape:\n",
      "(60000, 7)\n"
     ]
    }
   ],
   "source": [
    "product = df['Product']\n",
    "\n",
    "# Initialize\n",
    "le = preprocessing.LabelEncoder() \n",
    "le.fit(product)\n",
    "print('Original class labels:')\n",
    "print(list(le.classes_))\n",
    "print('\\n')\n",
    "product_cat = le.transform(product)  \n",
    "\n",
    "# If you wish to retrieve the original descriptive labels post production\n",
    "# list(le.inverse_transform([0, 1, 3, 3, 0, 6, 4])) \n",
    "\n",
    "print('New product labels:')\n",
    "print(product_cat)\n",
    "print('\\n')\n",
    "\n",
    "# Each row will be all zeros except for the category for that observation \n",
    "print('One hot labels; 7 binary columns, one for each of the categories.') \n",
    "product_onehot = to_categorical(product_cat)\n",
    "print(product_onehot)\n",
    "print('\\n')\n",
    "\n",
    "print('One hot labels shape:')\n",
    "print(np.shape(product_onehot))"
   ]
  },
  {
   "cell_type": "markdown",
   "metadata": {},
   "source": [
    "## Train-test split\n",
    "\n",
    "Now for our final preprocessing step: the usual train-test split. "
   ]
  },
  {
   "cell_type": "code",
   "execution_count": 26,
   "metadata": {},
   "outputs": [
    {
     "name": "stdout",
     "output_type": "stream",
     "text": [
      "Test label shape: (1500, 7)\n",
      "Train label shape: (58500, 7)\n",
      "Test shape: (1500, 2000)\n",
      "Train shape: (58500, 2000)\n"
     ]
    }
   ],
   "source": [
    "random.seed(123)\n",
    "test_index = random.sample(range(1,10000), 1500)\n",
    "\n",
    "test = one_hot_results[test_index]\n",
    "train = np.delete(one_hot_results, test_index, 0)\n",
    "\n",
    "label_test = product_onehot[test_index]\n",
    " = np.delete(product_onehot, test_index, 0)\n",
    "\n",
    "print('Test label shape:', np.shape(label_test))\n",
    "print('Train label shape:', np.shape(label_train))\n",
    "print('Test shape:', np.shape(test))\n",
    "print('Train shape:', np.shape(train))"
   ]
  },
  {
   "cell_type": "markdown",
   "metadata": {},
   "source": [
    "## Building the network\n",
    "\n",
    "Let's build a fully connected (Dense) layer network with relu activation in Keras. You can do this using: `Dense(16, activation='relu')`. \n",
    "\n",
    "In this example, use two hidden layers with 50 units in the first layer and 25 in the second, both with a `'relu'` activation function. Because we are dealing with a multiclass problem (classifying the complaints into 7 categories), we use a use a `'softmax'` classifier in order to output 7 class probabilities per case.  "
   ]
  },
  {
   "cell_type": "code",
   "execution_count": 27,
   "metadata": {},
   "outputs": [],
   "source": [
    "# Initialize a sequential model\n",
    "model = models.Sequential()\n",
    "\n",
    "# Two layers with relu activation\n",
    "model.add(layers.Dense(50, activation='relu'))\n",
    "model.add(layers.Dense(25, activation='relu'))\n",
    "\n",
    "\n",
    "# One layer with softmax activation \n",
    "model.add(layers.Dense(7, activation='softmax'))\n"
   ]
  },
  {
   "cell_type": "markdown",
   "metadata": {},
   "source": [
    "## Compiling the model\n",
    "\n",
    "Now, compile the model! This time, use `'categorical_crossentropy'` as the loss function and stochastic gradient descent, `'SGD'` as the optimizer. As in the previous lesson, include the accuracy as a metric."
   ]
  },
  {
   "cell_type": "code",
   "execution_count": 28,
   "metadata": {},
   "outputs": [],
   "source": [
    "# Compile the model\n",
    "model.compile(optimizer='SGD',\n",
    "              loss='categorical_crossentropy',\n",
    "              metrics=['accuracy'])"
   ]
  },
  {
   "cell_type": "markdown",
   "metadata": {},
   "source": [
    "## Training the model\n",
    "\n",
    "In the compiler, you'll be passing the optimizer (SGD = stochastic gradient descent), loss function, and metrics. Train the model for 120 epochs in mini-batches of 256 samples.\n",
    "\n",
    "_Note:_ ⏰ _Your code may take about one to two minutes to run._"
   ]
  },
  {
   "cell_type": "code",
   "execution_count": 29,
   "metadata": {},
   "outputs": [
    {
     "name": "stdout",
     "output_type": "stream",
     "text": [
      "Epoch 1/120\n",
      "229/229 [==============================] - 2s 4ms/step - loss: 1.9118 - accuracy: 0.2007\n",
      "Epoch 2/120\n",
      "229/229 [==============================] - 1s 3ms/step - loss: 1.7253 - accuracy: 0.3895\n",
      "Epoch 3/120\n",
      "229/229 [==============================] - 1s 4ms/step - loss: 1.3763 - accuracy: 0.5911\n",
      "Epoch 4/120\n",
      "229/229 [==============================] - 1s 3ms/step - loss: 1.0520 - accuracy: 0.6801\n",
      "Epoch 5/120\n",
      "229/229 [==============================] - 1s 3ms/step - loss: 0.8619 - accuracy: 0.7148\n",
      "Epoch 6/120\n",
      "229/229 [==============================] - 1s 3ms/step - loss: 0.7625 - accuracy: 0.7329\n",
      "Epoch 7/120\n",
      "229/229 [==============================] - 1s 3ms/step - loss: 0.7049 - accuracy: 0.7464\n",
      "Epoch 8/120\n",
      "229/229 [==============================] - 1s 3ms/step - loss: 0.6671 - accuracy: 0.7576\n",
      "Epoch 9/120\n",
      "229/229 [==============================] - 1s 3ms/step - loss: 0.6397 - accuracy: 0.7665\n",
      "Epoch 10/120\n",
      "229/229 [==============================] - 1s 3ms/step - loss: 0.6183 - accuracy: 0.7735\n",
      "Epoch 11/120\n",
      "229/229 [==============================] - 1s 4ms/step - loss: 0.6007 - accuracy: 0.7795\n",
      "Epoch 12/120\n",
      "229/229 [==============================] - 1s 3ms/step - loss: 0.5857 - accuracy: 0.7851\n",
      "Epoch 13/120\n",
      "229/229 [==============================] - 1s 3ms/step - loss: 0.5729 - accuracy: 0.7906\n",
      "Epoch 14/120\n",
      "229/229 [==============================] - 1s 3ms/step - loss: 0.5612 - accuracy: 0.7955\n",
      "Epoch 15/120\n",
      "229/229 [==============================] - 1s 3ms/step - loss: 0.5513 - accuracy: 0.8004\n",
      "Epoch 16/120\n",
      "229/229 [==============================] - 1s 3ms/step - loss: 0.5417 - accuracy: 0.8041\n",
      "Epoch 17/120\n",
      "229/229 [==============================] - 1s 3ms/step - loss: 0.5335 - accuracy: 0.8069\n",
      "Epoch 18/120\n",
      "229/229 [==============================] - 1s 3ms/step - loss: 0.5258 - accuracy: 0.8100\n",
      "Epoch 19/120\n",
      "229/229 [==============================] - 1s 3ms/step - loss: 0.5184 - accuracy: 0.8132\n",
      "Epoch 20/120\n",
      "229/229 [==============================] - 1s 3ms/step - loss: 0.5117 - accuracy: 0.8158\n",
      "Epoch 21/120\n",
      "229/229 [==============================] - 1s 4ms/step - loss: 0.5057 - accuracy: 0.8182\n",
      "Epoch 22/120\n",
      "229/229 [==============================] - 1s 3ms/step - loss: 0.4998 - accuracy: 0.8209\n",
      "Epoch 23/120\n",
      "229/229 [==============================] - 1s 4ms/step - loss: 0.4947 - accuracy: 0.8227\n",
      "Epoch 24/120\n",
      "229/229 [==============================] - 1s 3ms/step - loss: 0.4894 - accuracy: 0.8244\n",
      "Epoch 25/120\n",
      "229/229 [==============================] - 1s 3ms/step - loss: 0.4846 - accuracy: 0.8271\n",
      "Epoch 26/120\n",
      "229/229 [==============================] - 1s 3ms/step - loss: 0.4799 - accuracy: 0.8281\n",
      "Epoch 27/120\n",
      "229/229 [==============================] - 1s 3ms/step - loss: 0.4756 - accuracy: 0.8303\n",
      "Epoch 28/120\n",
      "229/229 [==============================] - 1s 3ms/step - loss: 0.4715 - accuracy: 0.8319\n",
      "Epoch 29/120\n",
      "229/229 [==============================] - 1s 3ms/step - loss: 0.4678 - accuracy: 0.8330\n",
      "Epoch 30/120\n",
      "229/229 [==============================] - 1s 3ms/step - loss: 0.4641 - accuracy: 0.8341\n",
      "Epoch 31/120\n",
      "229/229 [==============================] - 1s 4ms/step - loss: 0.4603 - accuracy: 0.8366\n",
      "Epoch 32/120\n",
      "229/229 [==============================] - 1s 4ms/step - loss: 0.4570 - accuracy: 0.8377\n",
      "Epoch 33/120\n",
      "229/229 [==============================] - 1s 5ms/step - loss: 0.4537 - accuracy: 0.8383\n",
      "Epoch 34/120\n",
      "229/229 [==============================] - 1s 4ms/step - loss: 0.4503 - accuracy: 0.8401\n",
      "Epoch 35/120\n",
      "229/229 [==============================] - 1s 4ms/step - loss: 0.4476 - accuracy: 0.8410\n",
      "Epoch 36/120\n",
      "229/229 [==============================] - 1s 3ms/step - loss: 0.4449 - accuracy: 0.8416\n",
      "Epoch 37/120\n",
      "229/229 [==============================] - 1s 3ms/step - loss: 0.4420 - accuracy: 0.8432\n",
      "Epoch 38/120\n",
      "229/229 [==============================] - 1s 3ms/step - loss: 0.4391 - accuracy: 0.8439\n",
      "Epoch 39/120\n",
      "229/229 [==============================] - 1s 3ms/step - loss: 0.4364 - accuracy: 0.8453\n",
      "Epoch 40/120\n",
      "229/229 [==============================] - 1s 3ms/step - loss: 0.4338 - accuracy: 0.8457\n",
      "Epoch 41/120\n",
      "229/229 [==============================] - 1s 4ms/step - loss: 0.4317 - accuracy: 0.8468\n",
      "Epoch 42/120\n",
      "229/229 [==============================] - 1s 4ms/step - loss: 0.4292 - accuracy: 0.8472\n",
      "Epoch 43/120\n",
      "229/229 [==============================] - 1s 4ms/step - loss: 0.4273 - accuracy: 0.8480\n",
      "Epoch 44/120\n",
      "229/229 [==============================] - 1s 3ms/step - loss: 0.4245 - accuracy: 0.8490\n",
      "Epoch 45/120\n",
      "229/229 [==============================] - 1s 4ms/step - loss: 0.4227 - accuracy: 0.8497\n",
      "Epoch 46/120\n",
      "229/229 [==============================] - 1s 4ms/step - loss: 0.4207 - accuracy: 0.8504\n",
      "Epoch 47/120\n",
      "229/229 [==============================] - 1s 3ms/step - loss: 0.4185 - accuracy: 0.8508\n",
      "Epoch 48/120\n",
      "229/229 [==============================] - 1s 4ms/step - loss: 0.4163 - accuracy: 0.8527\n",
      "Epoch 49/120\n",
      "229/229 [==============================] - 1s 3ms/step - loss: 0.4146 - accuracy: 0.8522\n",
      "Epoch 50/120\n",
      "229/229 [==============================] - 1s 3ms/step - loss: 0.4125 - accuracy: 0.8533\n",
      "Epoch 51/120\n",
      "229/229 [==============================] - 1s 3ms/step - loss: 0.4108 - accuracy: 0.8537\n",
      "Epoch 52/120\n",
      "229/229 [==============================] - 1s 3ms/step - loss: 0.4091 - accuracy: 0.8551\n",
      "Epoch 53/120\n",
      "229/229 [==============================] - 1s 3ms/step - loss: 0.4072 - accuracy: 0.8558\n",
      "Epoch 54/120\n",
      "229/229 [==============================] - 1s 3ms/step - loss: 0.4054 - accuracy: 0.8559\n",
      "Epoch 55/120\n",
      "229/229 [==============================] - 1s 3ms/step - loss: 0.4040 - accuracy: 0.8567\n",
      "Epoch 56/120\n",
      "229/229 [==============================] - 1s 3ms/step - loss: 0.4022 - accuracy: 0.8570\n",
      "Epoch 57/120\n",
      "229/229 [==============================] - 1s 3ms/step - loss: 0.4006 - accuracy: 0.8576\n",
      "Epoch 58/120\n",
      "229/229 [==============================] - 1s 4ms/step - loss: 0.3991 - accuracy: 0.8581\n",
      "Epoch 59/120\n",
      "229/229 [==============================] - 1s 3ms/step - loss: 0.3974 - accuracy: 0.8594\n",
      "Epoch 60/120\n",
      "229/229 [==============================] - 1s 3ms/step - loss: 0.3960 - accuracy: 0.8589\n",
      "Epoch 61/120\n",
      "229/229 [==============================] - 1s 4ms/step - loss: 0.3944 - accuracy: 0.8595\n",
      "Epoch 62/120\n",
      "229/229 [==============================] - 1s 4ms/step - loss: 0.3928 - accuracy: 0.8602\n",
      "Epoch 63/120\n",
      "229/229 [==============================] - 1s 4ms/step - loss: 0.3917 - accuracy: 0.8606\n",
      "Epoch 64/120\n",
      "229/229 [==============================] - 1s 5ms/step - loss: 0.3901 - accuracy: 0.8612\n",
      "Epoch 65/120\n",
      "229/229 [==============================] - 1s 5ms/step - loss: 0.3886 - accuracy: 0.8615\n",
      "Epoch 66/120\n",
      "229/229 [==============================] - 1s 4ms/step - loss: 0.3873 - accuracy: 0.8627\n",
      "Epoch 67/120\n",
      "229/229 [==============================] - 1s 3ms/step - loss: 0.3861 - accuracy: 0.8628\n",
      "Epoch 68/120\n",
      "229/229 [==============================] - 1s 3ms/step - loss: 0.3849 - accuracy: 0.8633\n",
      "Epoch 69/120\n",
      "229/229 [==============================] - 1s 4ms/step - loss: 0.3835 - accuracy: 0.8637\n",
      "Epoch 70/120\n",
      "229/229 [==============================] - 1s 4ms/step - loss: 0.3822 - accuracy: 0.8641\n",
      "Epoch 71/120\n",
      "229/229 [==============================] - 1s 4ms/step - loss: 0.3809 - accuracy: 0.8642\n",
      "Epoch 72/120\n",
      "229/229 [==============================] - 1s 4ms/step - loss: 0.3798 - accuracy: 0.8643\n",
      "Epoch 73/120\n",
      "229/229 [==============================] - 1s 5ms/step - loss: 0.3785 - accuracy: 0.8661\n",
      "Epoch 74/120\n",
      "229/229 [==============================] - 1s 5ms/step - loss: 0.3771 - accuracy: 0.8652\n",
      "Epoch 75/120\n",
      "229/229 [==============================] - 1s 4ms/step - loss: 0.3762 - accuracy: 0.8663\n",
      "Epoch 76/120\n",
      "229/229 [==============================] - 1s 4ms/step - loss: 0.3745 - accuracy: 0.8664\n",
      "Epoch 77/120\n",
      "229/229 [==============================] - 1s 4ms/step - loss: 0.3739 - accuracy: 0.8669\n",
      "Epoch 78/120\n",
      "229/229 [==============================] - 1s 4ms/step - loss: 0.3726 - accuracy: 0.8673\n",
      "Epoch 79/120\n",
      "229/229 [==============================] - 1s 3ms/step - loss: 0.3715 - accuracy: 0.8678\n",
      "Epoch 80/120\n",
      "229/229 [==============================] - 1s 4ms/step - loss: 0.3704 - accuracy: 0.8684\n",
      "Epoch 81/120\n",
      "229/229 [==============================] - 1s 4ms/step - loss: 0.3694 - accuracy: 0.8688\n",
      "Epoch 82/120\n",
      "229/229 [==============================] - 1s 3ms/step - loss: 0.3684 - accuracy: 0.8690\n",
      "Epoch 83/120\n",
      "229/229 [==============================] - 1s 3ms/step - loss: 0.3670 - accuracy: 0.8690\n",
      "Epoch 84/120\n",
      "229/229 [==============================] - 1s 3ms/step - loss: 0.3661 - accuracy: 0.8697\n",
      "Epoch 85/120\n",
      "229/229 [==============================] - 1s 4ms/step - loss: 0.3649 - accuracy: 0.8699\n",
      "Epoch 86/120\n",
      "229/229 [==============================] - 1s 3ms/step - loss: 0.3641 - accuracy: 0.8703\n",
      "Epoch 87/120\n",
      "229/229 [==============================] - 1s 4ms/step - loss: 0.3632 - accuracy: 0.8711\n",
      "Epoch 88/120\n",
      "229/229 [==============================] - 1s 3ms/step - loss: 0.3617 - accuracy: 0.8707\n",
      "Epoch 89/120\n",
      "229/229 [==============================] - 1s 3ms/step - loss: 0.3609 - accuracy: 0.8708\n",
      "Epoch 90/120\n",
      "229/229 [==============================] - 1s 3ms/step - loss: 0.3603 - accuracy: 0.8712\n",
      "Epoch 91/120\n",
      "229/229 [==============================] - 1s 3ms/step - loss: 0.3590 - accuracy: 0.8716\n",
      "Epoch 92/120\n",
      "229/229 [==============================] - 1s 3ms/step - loss: 0.3582 - accuracy: 0.8724\n",
      "Epoch 93/120\n",
      "229/229 [==============================] - 1s 3ms/step - loss: 0.3569 - accuracy: 0.8730\n",
      "Epoch 94/120\n",
      "229/229 [==============================] - 1s 4ms/step - loss: 0.3566 - accuracy: 0.8730\n",
      "Epoch 95/120\n",
      "229/229 [==============================] - 1s 3ms/step - loss: 0.3554 - accuracy: 0.8732\n",
      "Epoch 96/120\n",
      "229/229 [==============================] - 1s 3ms/step - loss: 0.3545 - accuracy: 0.8736\n",
      "Epoch 97/120\n",
      "229/229 [==============================] - 1s 3ms/step - loss: 0.3532 - accuracy: 0.8739\n",
      "Epoch 98/120\n",
      "229/229 [==============================] - 1s 3ms/step - loss: 0.3526 - accuracy: 0.8749\n",
      "Epoch 99/120\n",
      "229/229 [==============================] - 1s 3ms/step - loss: 0.3513 - accuracy: 0.8753\n",
      "Epoch 100/120\n",
      "229/229 [==============================] - 1s 4ms/step - loss: 0.3506 - accuracy: 0.8753\n",
      "Epoch 101/120\n",
      "229/229 [==============================] - 1s 3ms/step - loss: 0.3496 - accuracy: 0.8758\n",
      "Epoch 102/120\n",
      "229/229 [==============================] - 1s 3ms/step - loss: 0.3488 - accuracy: 0.8753\n",
      "Epoch 103/120\n",
      "229/229 [==============================] - 1s 4ms/step - loss: 0.3481 - accuracy: 0.8759\n",
      "Epoch 104/120\n",
      "229/229 [==============================] - 1s 3ms/step - loss: 0.3471 - accuracy: 0.8768\n",
      "Epoch 105/120\n",
      "229/229 [==============================] - 1s 4ms/step - loss: 0.3461 - accuracy: 0.8765\n",
      "Epoch 106/120\n",
      "229/229 [==============================] - 1s 4ms/step - loss: 0.3454 - accuracy: 0.8769\n",
      "Epoch 107/120\n",
      "229/229 [==============================] - 1s 4ms/step - loss: 0.3443 - accuracy: 0.8775\n",
      "Epoch 108/120\n",
      "229/229 [==============================] - 1s 4ms/step - loss: 0.3435 - accuracy: 0.8775\n",
      "Epoch 109/120\n",
      "229/229 [==============================] - 1s 3ms/step - loss: 0.3427 - accuracy: 0.8777\n",
      "Epoch 110/120\n",
      "229/229 [==============================] - 1s 3ms/step - loss: 0.3414 - accuracy: 0.8783\n",
      "Epoch 111/120\n",
      "229/229 [==============================] - 1s 3ms/step - loss: 0.3411 - accuracy: 0.8778\n",
      "Epoch 112/120\n",
      "229/229 [==============================] - 1s 4ms/step - loss: 0.3398 - accuracy: 0.8785\n",
      "Epoch 113/120\n",
      "229/229 [==============================] - 1s 3ms/step - loss: 0.3391 - accuracy: 0.8795\n",
      "Epoch 114/120\n",
      "229/229 [==============================] - 1s 3ms/step - loss: 0.3383 - accuracy: 0.8797\n",
      "Epoch 115/120\n",
      "229/229 [==============================] - 1s 3ms/step - loss: 0.3377 - accuracy: 0.8795\n",
      "Epoch 116/120\n",
      "229/229 [==============================] - 1s 3ms/step - loss: 0.3364 - accuracy: 0.8799\n",
      "Epoch 117/120\n",
      "229/229 [==============================] - 1s 3ms/step - loss: 0.3360 - accuracy: 0.8804\n",
      "Epoch 118/120\n",
      "229/229 [==============================] - 1s 4ms/step - loss: 0.3348 - accuracy: 0.8802\n",
      "Epoch 119/120\n",
      "229/229 [==============================] - 1s 3ms/step - loss: 0.3342 - accuracy: 0.8810\n",
      "Epoch 120/120\n",
      "229/229 [==============================] - 1s 3ms/step - loss: 0.3333 - accuracy: 0.8814\n"
     ]
    }
   ],
   "source": [
    "# Train the model \n",
    "history = model.fit(train,\n",
    "                    label_train,\n",
    "                    epochs=120,\n",
    "                    batch_size=256)"
   ]
  },
  {
   "cell_type": "markdown",
   "metadata": {},
   "source": [
    "Recall that the dictionary `history` has two entries: the loss and the accuracy achieved using the training set."
   ]
  },
  {
   "cell_type": "code",
   "execution_count": 30,
   "metadata": {},
   "outputs": [
    {
     "data": {
      "text/plain": [
       "dict_keys(['loss', 'accuracy'])"
      ]
     },
     "execution_count": 30,
     "metadata": {},
     "output_type": "execute_result"
    }
   ],
   "source": [
    "history_dict = history.history\n",
    "history_dict.keys()"
   ]
  },
  {
   "cell_type": "markdown",
   "metadata": {},
   "source": [
    "## Plot the results\n",
    "\n",
    "As you might expect, we'll use our `matplotlib` for graphing. Use the data stored in the `history_dict` above to plot the loss vs epochs and the accuracy vs epochs. "
   ]
  },
  {
   "cell_type": "code",
   "execution_count": 34,
   "metadata": {},
   "outputs": [
    {
     "data": {
      "text/plain": [
       "[<matplotlib.lines.Line2D at 0x1768a6b00>]"
      ]
     },
     "execution_count": 34,
     "metadata": {},
     "output_type": "execute_result"
    },
    {
     "data": {
      "image/png": "[encoded data removed]",
      "text/plain": [
       "<Figure size 640x480 with 1 Axes>"
      ]
     },
     "metadata": {},
     "output_type": "display_data"
    }
   ],
   "source": [
    "# Plot the loss vs the number of epoch\n",
    "plt.plot(history_dict['loss'])"
   ]
  },
  {
   "cell_type": "code",
   "execution_count": 37,
   "metadata": {},
   "outputs": [
    {
     "data": {
      "text/plain": [
       "[<matplotlib.lines.Line2D at 0x1769a1cc0>]"
      ]
     },
     "execution_count": 37,
     "metadata": {},
     "output_type": "execute_result"
    },
    {
     "data": {
      "image/png": "[encoded data removed]",
      "text/plain": [
       "<Figure size 640x480 with 1 Axes>"
      ]
     },
     "metadata": {},
     "output_type": "display_data"
    }
   ],
   "source": [
    "# Plot the training accuracy vs the number of epochs\n",
    "plt.plot(history_dict['accuracy'])"
   ]
  },
  {
   "cell_type": "markdown",
   "metadata": {},
   "source": [
    "It seems like we could just keep on going and accuracy would go up!"
   ]
  },
  {
   "cell_type": "markdown",
   "metadata": {},
   "source": [
    "## Make predictions\n",
    "\n",
    "Finally, it's time to make predictions. Use the relevant method discussed in the previous lesson to output (probability) predictions for the test set."
   ]
  },
  {
   "cell_type": "code",
   "execution_count": 38,
   "metadata": {},
   "outputs": [
    {
     "name": "stdout",
     "output_type": "stream",
     "text": [
      "47/47 [==============================] - 0s 2ms/step\n"
     ]
    }
   ],
   "source": [
    "# Output (probability) predictions for the test set \n",
    "y_hat_test = model.predict(test)"
   ]
  },
  {
   "cell_type": "markdown",
   "metadata": {},
   "source": [
    "## Evaluate Performance\n",
    "\n",
    "Finally, print the loss and accuracy for both the train and test sets of the final trained model."
   ]
  },
  {
   "cell_type": "code",
   "execution_count": 41,
   "metadata": {},
   "outputs": [
    {
     "name": "stdout",
     "output_type": "stream",
     "text": [
      "1829/1829 [==============================] - 3s 2ms/step - loss: 0.3283 - accuracy: 0.8825\n"
     ]
    },
    {
     "data": {
      "text/plain": [
       "[0.32826048135757446, 0.8824615478515625]"
      ]
     },
     "execution_count": 41,
     "metadata": {},
     "output_type": "execute_result"
    }
   ],
   "source": [
    "# Print the loss and accuracy for the training set \n",
    "results_train = model.evaluate(train,label_train)\n",
    "results_train"
   ]
  },
  {
   "cell_type": "code",
   "execution_count": 42,
   "metadata": {},
   "outputs": [
    {
     "name": "stdout",
     "output_type": "stream",
     "text": [
      "47/47 [==============================] - 0s 2ms/step - loss: 0.2599 - accuracy: 0.9267\n"
     ]
    },
    {
     "data": {
      "text/plain": [
       "[0.2598755657672882, 0.9266666769981384]"
      ]
     },
     "execution_count": 42,
     "metadata": {},
     "output_type": "execute_result"
    }
   ],
   "source": [
    "# Print the loss and accuracy for the test set \n",
    "results_test = model.evaluate(test,label_test)\n",
    "results_test"
   ]
  },
  {
   "cell_type": "markdown",
   "metadata": {},
   "source": [
    "We can see that the training set results are really good, and the test set results seem to be even better. In general, this type of result will be rare, as train set results are usually at least a bit better than test set results.\n",
    "\n",
    "## Summary \n",
    "\n",
    "Congratulations! In this lab, you built a neural network thanks to the tools provided by Keras! In upcoming lessons and labs we'll continue to investigate further ideas regarding how to tune and refine these models for increased accuracy and performance."
   ]
  }
 ],
 "metadata": {
  "kernelspec": {
   "display_name": "Python 3 (ipykernel)",
   "language": "python",
   "name": "python3"
  },
  "language_info": {
   "codemirror_mode": {
    "name": "ipython",
    "version": 3
   },
   "file_extension": ".py",
   "mimetype": "text/x-python",
   "name": "python",
   "nbconvert_exporter": "python",
   "pygments_lexer": "ipython3",
   "version": "3.10.13"
  },
  "toc": {
   "base_numbering": 1,
   "nav_menu": {},
   "number_sections": true,
   "sideBar": true,
   "skip_h1_title": false,
   "title_cell": "Table of Contents",
   "title_sidebar": "Contents",
   "toc_cell": false,
   "toc_position": {},
   "toc_section_display": true,
   "toc_window_display": false
  }
 },
 "nbformat": 4,
 "nbformat_minor": 4
}
